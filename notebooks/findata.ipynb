{
  "cells": [
    {
      "cell_type": "markdown",
      "metadata": {
        "colab_type": "text",
        "id": "view-in-github"
      },
      "source": [
        "<a href=\"https://colab.research.google.com/github/jtviegas-sandbox/datascience/blob/main/notebooks/findata.ipynb\" target=\"_parent\"><img src=\"https://colab.research.google.com/assets/colab-badge.svg\" alt=\"Open In Colab\"/></a>"
      ]
    },
    {
      "cell_type": "code",
      "execution_count": null,
      "metadata": {
        "id": "dBShoFkGspac"
      },
      "outputs": [],
      "source": [
        "import importlib \n",
        "import os\n",
        "COLAB_MODE = importlib.find_loader('google') is not None\n",
        "print(f\"colab mode? {COLAB_MODE}\")    "
      ]
    },
    {
      "cell_type": "code",
      "execution_count": null,
      "metadata": {
        "colab": {
          "base_uri": "https://localhost:8080/"
        },
        "id": "EEVuYBChsLxv",
        "outputId": "59d4040d-80c7-454f-fe8b-f8944e552de2"
      },
      "outputs": [],
      "source": [
        "import json\n",
        "\n",
        "\n",
        "if COLAB_MODE:\n",
        "    !pip install fredapi pandas_datareader ipykernel\n",
        "    from google.colab import userdata\n",
        "    FRED_KEY=userdata.get('FRED_API_KEY')\n",
        "else: \n",
        "    # use requirements.txt\n",
        "    with open('../.secrets.json') as f:\n",
        "        secrets = json.load(f)\n",
        "        FRED_KEY = secrets[\"FRED_KEY\"]\n",
        "\n",
        "print (FRED_KEY)\n"
      ]
    },
    {
      "cell_type": "code",
      "execution_count": null,
      "metadata": {
        "id": "-SvYV-v-f2u4"
      },
      "outputs": [],
      "source": [
        "from fredapi import Fred\n",
        "import pandas_datareader as pdr"
      ]
    },
    {
      "cell_type": "code",
      "execution_count": null,
      "metadata": {
        "id": "r2RCa5j-svSP"
      },
      "outputs": [],
      "source": [
        "fred = Fred(api_key=FRED_KEY)"
      ]
    },
    {
      "cell_type": "markdown",
      "metadata": {
        "id": "CG2F8d1cgQeN"
      },
      "source": [
        "## cpi"
      ]
    },
    {
      "cell_type": "code",
      "execution_count": null,
      "metadata": {
        "colab": {
          "base_uri": "https://localhost:8080/"
        },
        "id": "34gBAXpzz8s5",
        "outputId": "8f44f4fb-6830-413f-80e2-94f5aa41c5ab"
      },
      "outputs": [],
      "source": [
        "cpi_us = fred.get_series(\"CPALTT01USM657N\").rename(columns={\"CPALTT01USM657N\": \"CPI\"})\n",
        "cpi_us"
      ]
    },
    {
      "cell_type": "code",
      "execution_count": null,
      "metadata": {},
      "outputs": [],
      "source": []
    }
  ],
  "metadata": {
    "colab": {
      "include_colab_link": true,
      "provenance": [],
      "toc_visible": true
    },
    "kernelspec": {
      "display_name": "Python 3",
      "name": "python3"
    },
    "language_info": {
      "codemirror_mode": {
        "name": "ipython",
        "version": 3
      },
      "file_extension": ".py",
      "mimetype": "text/x-python",
      "name": "python",
      "nbconvert_exporter": "python",
      "pygments_lexer": "ipython3",
      "version": "3.9.6"
    }
  },
  "nbformat": 4,
  "nbformat_minor": 0
}
